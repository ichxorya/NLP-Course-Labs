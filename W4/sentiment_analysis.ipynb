{
 "cells": [
  {
   "cell_type": "code",
   "execution_count": 10,
   "metadata": {},
   "outputs": [
    {
     "name": "stdout",
     "output_type": "stream",
     "text": [
      "NLTK punkt tokenizer data is already downloaded.\n"
     ]
    }
   ],
   "source": [
    "# Import libraries.\n",
    "import sklearn, nltk, random\n",
    "\n",
    "# Check if the NLTK punkt tokenizer data is already downloaded.\n",
    "if not nltk.data.find(\"tokenizers/punkt\"):\n",
    "    # If it's not downloaded, download it.\n",
    "    print(\"Downloading NLTK punkt\")\n",
    "    nltk.download(\"punkt\")\n",
    "print(\"NLTK punkt tokenizer data is already downloaded.\")"
   ]
  },
  {
   "cell_type": "code",
   "execution_count": 12,
   "metadata": {},
   "outputs": [
    {
     "name": "stdout",
     "output_type": "stream",
     "text": [
      "Number of training examples: 75000\n",
      "Training example: This picture was banned from American movies houses in the 1930 because of nudity by Hedy Lamarr, (Eva Hermann) which caused all kinds of problems among the ladies in the 1930's but not so much for the male population. This story concerns a young woman named Eva Hermann who gets married to an older man and is carried over the threshold on the wedding night and the husband never consummates the marriage and worries about all kinds of very petty things like his shoes and killing bugs. Eva leaves her husband's house and lives with her father and tries to explain her situation. On a hot Summer day Eva takes a ride on her horse and decides to go for a swim naked in a lake in the woods. Her horse runs off and she runs after him and is observed by a young man who finds her clothes and returns them to Eva. These two people become very acquainted and there is a romance that starts to bloom. There are many more interesting problems that arise as you view this film to its very end. Enjoy a great Classic film which was a Shocker Film in 1933. Enjoy.\n",
      "Number of testing examples: 25000\n",
      "Testing example: ...without anything to walk away with. This movie starts with scenes in China with the finding of a newborn. While this is not a new concept, I wasn't going to give up right there. Then there is a flash forward to adolescence. The man's wife and biological child are fed up with the father who has neglected them. While this did not seem culturally accurate, and the movie made no move to develop these characters or the purpose for the adopted father's devotion, I pressed on.<br /><br />Next, we're in Malibu where we are bombarded by poorly constructed classroom interaction and terribly low-budget (fill in the blank: acting/camera work/lighting).<br /><br />I won't give away any more of the plot, because I suppose the synopsis is accurate: the movie is meant to show how a Malibu girl who (though she seems to innately have the compassion and interest to help others when she immediately asks her teacher about the trip to China) is spoiled and inconsiderate, finds herself as being a healer and helper of both body and spirit.<br /><br />Lame. LAME, LAME, LAME.<br /><br />Now I, admittedly, am a harsh critic, so maybe take one of those LAME's away and you'll be on the mark.\n"
     ]
    }
   ],
   "source": [
    "# Load the training and testing data.\n",
    "training_data = sklearn.datasets.load_files('aclImdb/train', encoding='utf-8')\n",
    "testing_data = sklearn.datasets.load_files('aclImdb/test', encoding='utf-8')\n",
    "\n",
    "# Print the number of training and testing examples. Give a random example for each.\n",
    "training_data_size = len(training_data.data)\n",
    "testing_data_size = len(testing_data.data)\n",
    "random_index = random.randint(0, min(training_data_size, testing_data_size) - 1)\n",
    "print(\"Number of training examples: {}\".format(training_data_size))\n",
    "print(\"Training example: {}\".format(training_data.data[random_index]))\n",
    "print(\"Number of testing examples: {}\".format(testing_data_size))\n",
    "print(\"Testing example: {}\".format(testing_data.data[random_index]))"
   ]
  },
  {
   "cell_type": "code",
   "execution_count": 8,
   "metadata": {},
   "outputs": [
    {
     "name": "stdout",
     "output_type": "stream",
     "text": [
      "Number of training examples: 75000\n",
      "Number of testing examples: 25000\n"
     ]
    }
   ],
   "source": []
  }
 ],
 "metadata": {
  "kernelspec": {
   "display_name": "Python 3 (ipykernel)",
   "language": "python",
   "name": "python3"
  },
  "orig_nbformat": 4
 },
 "nbformat": 4,
 "nbformat_minor": 2
}
