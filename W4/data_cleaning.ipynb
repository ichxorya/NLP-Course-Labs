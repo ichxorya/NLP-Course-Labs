{
 "cells": [
  {
   "cell_type": "markdown",
   "metadata": {},
   "source": [
    "# Data cleaning process"
   ]
  },
  {
   "cell_type": "code",
   "execution_count": null,
   "metadata": {},
   "outputs": [],
   "source": [
    "#! Import libraries.\n",
    "import os  # for os related operations\n",
    "import pandas as pd  # for data manipulation and analysis\n",
    "\n",
    "from py_modules.data_df_utils import *  # for data manipulation\n",
    "from py_modules.data_cleaner_utils import *  # for data cleaning\n",
    "\n",
    "#! Important paths.\n",
    "path = os.getcwd()  # get current working directory\n",
    "dataset_path = os.path.join(path, \"aclImdb\")  # get dataset path\n",
    "cleaned_dataset_path = os.path.join(path, \"cleaned_aclImdb\")  # get cleaned dataset path\n",
    "\n",
    "# Create cleaned dataset directory if it doesn't exist.\n",
    "if not os.path.exists(cleaned_dataset_path):\n",
    "    os.mkdir(cleaned_dataset_path)\n",
    "\n",
    "# Print out the important paths.\n",
    "important_paths = f\"\"\"Important paths:\n",
    "    Current working directory: {path}\n",
    "    Dataset path: {dataset_path}\n",
    "    Cleaned dataset path: {cleaned_dataset_path}\n",
    "\"\"\"\n",
    "print(important_paths)"
   ]
  },
  {
   "cell_type": "code",
   "execution_count": null,
   "metadata": {},
   "outputs": [],
   "source": [
    "#! Load the training data.\n",
    "train_df = load_data(dataset_path, \"train\")\n",
    "\n",
    "#! Visualize the training data.\n",
    "visualize_data(train_df, \"Training data\")\n",
    "\n",
    "#! Print statistics of the training data.\n",
    "analyze_data(train_df)"
   ]
  },
  {
   "cell_type": "code",
   "execution_count": null,
   "metadata": {},
   "outputs": [],
   "source": [
    "#! Clean the training data.\n",
    "cleaned_train_df = clean_data(train_df)\n",
    "\n",
    "#! Visualize the cleaned training data.\n",
    "visualize_data(cleaned_train_df, \"Cleaned training data\")\n",
    "\n",
    "#! Print statistics of the cleaned training data.\n",
    "analyze_data(cleaned_train_df)\n",
    "\n",
    "#! Compare a random review before and after cleaning.\n",
    "compare_review_before_after_cleaning(train_df, cleaned_train_df)\n",
    "\n",
    "#! Save the cleaned training data.\n",
    "save_cleaned_data(cleaned_train_df, is_train_data=True)"
   ]
  },
  {
   "cell_type": "code",
   "execution_count": null,
   "metadata": {},
   "outputs": [],
   "source": [
    "#! Do the same for the test data (cleaning and saving only).\n",
    "cleaned_test_df = clean_data(load_data(dataset_path, \"test\"))\n",
    "save_cleaned_data(cleaned_test_df, is_train_data=False)"
   ]
  }
 ],
 "metadata": {
  "kernelspec": {
   "display_name": "Python 3 (ipykernel)",
   "language": "python",
   "name": "python3"
  },
  "language_info": {
   "codemirror_mode": {
    "name": "ipython",
    "version": 3
   },
   "file_extension": ".py",
   "mimetype": "text/x-python",
   "name": "python",
   "nbconvert_exporter": "python",
   "pygments_lexer": "ipython3",
   "version": "3.7.12"
  },
  "orig_nbformat": 4
 },
 "nbformat": 4,
 "nbformat_minor": 2
}
